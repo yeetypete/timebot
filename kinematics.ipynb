{
 "metadata": {
  "language_info": {
   "codemirror_mode": {
    "name": "ipython",
    "version": 3
   },
   "file_extension": ".py",
   "mimetype": "text/x-python",
   "name": "python",
   "nbconvert_exporter": "python",
   "pygments_lexer": "ipython3",
   "version": "3.8.6"
  },
  "orig_nbformat": 2,
  "kernelspec": {
   "name": "python386jvsc74a57bd0082e9a3bcad0a290d0001e938aa60b99250c6c2ef33a923c00b70f9826caf4b7",
   "display_name": "Python 3.8.6 64-bit"
  }
 },
 "nbformat": 4,
 "nbformat_minor": 2,
 "cells": [
  {
   "cell_type": "code",
   "execution_count": 19,
   "metadata": {},
   "outputs": [
    {
     "output_type": "display_data",
     "data": {
      "text/plain": "Eq(x, x_1/2 + x_2/2)",
      "text/latex": "$\\displaystyle x = \\frac{x_{1}}{2} + \\frac{x_{2}}{2}$"
     },
     "metadata": {}
    },
    {
     "output_type": "display_data",
     "data": {
      "text/plain": "Eq(L**2, y**2 + (-x_1/2 + x_2/2)**2)",
      "text/latex": "$\\displaystyle L^{2} = y^{2} + \\left(- \\frac{x_{1}}{2} + \\frac{x_{2}}{2}\\right)^{2}$"
     },
     "metadata": {}
    }
   ],
   "source": [
    "from sympy import *\n",
    "\n",
    "x_min = 53/2 # mm\n",
    "x_max = x_min + 125 # mm\n",
    "\n",
    "x_1, x_2, L, x, y = symbols('x_1 x_2 L x y')\n",
    "\n",
    "x_pos = Eq(x, (x_1 + x_2) / 2)\n",
    "display(x_pos)\n",
    "y_pos = Eq(L ** 2, (((x_2 - x_1)/2) **2) + y ** 2 )\n",
    "display(y_pos)\n",
    "sol_set = solve((x_pos, y_pos), [x_1, x_2], dict=True)"
   ]
  },
  {
   "cell_type": "code",
   "execution_count": 14,
   "metadata": {},
   "outputs": [
    {
     "output_type": "stream",
     "name": "stdout",
     "text": [
      "x_1_ans = 0\nx_2_ans = 0\n\nx_1_ans = 0\nx_2_ans = 0\n\n"
     ]
    }
   ],
   "source": [
    "for sol in sol_set:\n",
    "    x_1_ans = sol[x_1].subs({L: 125, x: 0, y: 125})\n",
    "    x_2_ans = sol[x_2].subs({L: 125, x: 0, y: 125})\n",
    "    print(f'x_1_ans = {x_1_ans.evalf()}')\n",
    "    print(f'x_2_ans = {x_2_ans.evalf()}')\n",
    "    print()"
   ]
  },
  {
   "cell_type": "code",
   "execution_count": 18,
   "metadata": {},
   "outputs": [
    {
     "output_type": "display_data",
     "data": {
      "text/plain": "Eq(x_1, x - sqrt((L - y)*(L + y)))",
      "text/latex": "$\\displaystyle x_{1} = x - \\sqrt{\\left(L - y\\right) \\left(L + y\\right)}$"
     },
     "metadata": {}
    },
    {
     "output_type": "display_data",
     "data": {
      "text/plain": "Eq(x_2, x + sqrt((L - y)*(L + y)))",
      "text/latex": "$\\displaystyle x_{2} = x + \\sqrt{\\left(L - y\\right) \\left(L + y\\right)}$"
     },
     "metadata": {}
    }
   ],
   "source": [
    "display(Eq(x_1, sol_set[0][x_1].simplify()))\n",
    "display(Eq(x_2, sol_set[0][x_2].simplify()))"
   ]
  },
  {
   "cell_type": "code",
   "execution_count": null,
   "metadata": {},
   "outputs": [],
   "source": []
  }
 ]
}